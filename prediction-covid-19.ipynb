{
  "nbformat": 4,
  "nbformat_minor": 0,
  "metadata": {
    "colab": {
      "name": "prediction covid-19.ipynb",
      "provenance": [],
      "include_colab_link": true
    },
    "kernelspec": {
      "name": "python3",
      "display_name": "Python 3"
    },
    "language_info": {
      "name": "python"
    }
  },
  "cells": [
    {
      "cell_type": "markdown",
      "metadata": {
        "id": "view-in-github",
        "colab_type": "text"
      },
      "source": [
        "<a href=\"https://colab.research.google.com/gist/ichrakbensaad1/290894207d848833608a2e235890e232/prediction-covid-19.ipynb\" target=\"_parent\"><img src=\"https://colab.research.google.com/assets/colab-badge.svg\" alt=\"Open In Colab\"/></a>"
      ]
    },
    {
      "cell_type": "markdown",
      "metadata": {
        "id": "AO6ofv_WMZdk"
      },
      "source": [
        "**texte en gras**"
      ]
    },
    {
      "cell_type": "markdown",
      "metadata": {
        "id": "XgIPLhjlMjMR"
      },
      "source": [
        "#Procédure:\n",
        "\n",
        "Préparation des exigences\n",
        "\n",
        "Obtenir l'ensemble de données\n",
        "\n",
        "Fonctions de préparation\n",
        "\n",
        "Préparation des données et du modèle\n",
        "\n",
        "Tester le modèle avant de passer à la prédiction future\n",
        "\n",
        "Faire des prédictions futures"
      ]
    },
    {
      "cell_type": "code",
      "metadata": {
        "id": "DN9b5cMi4waP"
      },
      "source": [
        "import math\n",
        "import pandas as pd\n",
        "import numpy as np\n",
        "import matplotlib.pyplot as plt\n",
        "from sklearn.preprocessing import MinMaxScaler\n",
        "from sklearn.metrics import mean_squared_error\n",
        "from keras.models import Sequential\n",
        "from keras.layers import Dense, LSTM, Dropout"
      ],
      "execution_count": null,
      "outputs": []
    },
    {
      "cell_type": "code",
      "metadata": {
        "id": "NH0qVweI4ys8"
      },
      "source": [
        "RANDOM_SEED = 42\n",
        "TRAIN_CASE = \"new_cases\"\n",
        "TRAIN_LOCATION = \"Tunisia\"\n",
        "DATATRAIN_SOURCE_FILE = \"owid-covid-data.csv\"\n",
        "TEST_SIZE = 0.3\n",
        "LOOK_BACK = 1\n",
        "BATCH_SIZE = 1\n",
        "EPOCHS = 2000\n",
        "DAYS_TO_PREDICT = 30"
      ],
      "execution_count": null,
      "outputs": []
    },
    {
      "cell_type": "code",
      "metadata": {
        "colab": {
          "base_uri": "https://localhost:8080/",
          "height": 213
        },
        "id": "WQFieP_I43zL",
        "outputId": "0fdba528-17ef-4bf6-87bf-5e2e387e5b08"
      },
      "source": [
        "df = pd.read_csv('owid-covid-data.csv')\n",
        "df.head(3)"
      ],
      "execution_count": null,
      "outputs": [
        {
          "output_type": "execute_result",
          "data": {
            "text/html": [
              "<div>\n",
              "<style scoped>\n",
              "    .dataframe tbody tr th:only-of-type {\n",
              "        vertical-align: middle;\n",
              "    }\n",
              "\n",
              "    .dataframe tbody tr th {\n",
              "        vertical-align: top;\n",
              "    }\n",
              "\n",
              "    .dataframe thead th {\n",
              "        text-align: right;\n",
              "    }\n",
              "</style>\n",
              "<table border=\"1\" class=\"dataframe\">\n",
              "  <thead>\n",
              "    <tr style=\"text-align: right;\">\n",
              "      <th></th>\n",
              "      <th>iso_code</th>\n",
              "      <th>continent</th>\n",
              "      <th>location</th>\n",
              "      <th>date</th>\n",
              "      <th>total_cases</th>\n",
              "      <th>new_cases</th>\n",
              "      <th>new_cases_smoothed</th>\n",
              "      <th>total_deaths</th>\n",
              "      <th>new_deaths</th>\n",
              "      <th>new_deaths_smoothed</th>\n",
              "      <th>total_cases_per_million</th>\n",
              "      <th>new_cases_per_million</th>\n",
              "      <th>new_cases_smoothed_per_million</th>\n",
              "      <th>total_deaths_per_million</th>\n",
              "      <th>new_deaths_per_million</th>\n",
              "      <th>new_deaths_smoothed_per_million</th>\n",
              "      <th>reproduction_rate</th>\n",
              "      <th>icu_patients</th>\n",
              "      <th>icu_patients_per_million</th>\n",
              "      <th>hosp_patients</th>\n",
              "      <th>hosp_patients_per_million</th>\n",
              "      <th>weekly_icu_admissions</th>\n",
              "      <th>weekly_icu_admissions_per_million</th>\n",
              "      <th>weekly_hosp_admissions</th>\n",
              "      <th>weekly_hosp_admissions_per_million</th>\n",
              "      <th>new_tests</th>\n",
              "      <th>total_tests</th>\n",
              "      <th>total_tests_per_thousand</th>\n",
              "      <th>new_tests_per_thousand</th>\n",
              "      <th>new_tests_smoothed</th>\n",
              "      <th>new_tests_smoothed_per_thousand</th>\n",
              "      <th>positive_rate</th>\n",
              "      <th>tests_per_case</th>\n",
              "      <th>tests_units</th>\n",
              "      <th>total_vaccinations</th>\n",
              "      <th>people_vaccinated</th>\n",
              "      <th>people_fully_vaccinated</th>\n",
              "      <th>total_boosters</th>\n",
              "      <th>new_vaccinations</th>\n",
              "      <th>new_vaccinations_smoothed</th>\n",
              "      <th>total_vaccinations_per_hundred</th>\n",
              "      <th>people_vaccinated_per_hundred</th>\n",
              "      <th>people_fully_vaccinated_per_hundred</th>\n",
              "      <th>total_boosters_per_hundred</th>\n",
              "      <th>new_vaccinations_smoothed_per_million</th>\n",
              "      <th>stringency_index</th>\n",
              "      <th>population</th>\n",
              "      <th>population_density</th>\n",
              "      <th>median_age</th>\n",
              "      <th>aged_65_older</th>\n",
              "      <th>aged_70_older</th>\n",
              "      <th>gdp_per_capita</th>\n",
              "      <th>extreme_poverty</th>\n",
              "      <th>cardiovasc_death_rate</th>\n",
              "      <th>diabetes_prevalence</th>\n",
              "      <th>female_smokers</th>\n",
              "      <th>male_smokers</th>\n",
              "      <th>handwashing_facilities</th>\n",
              "      <th>hospital_beds_per_thousand</th>\n",
              "      <th>life_expectancy</th>\n",
              "      <th>human_development_index</th>\n",
              "      <th>excess_mortality</th>\n",
              "    </tr>\n",
              "  </thead>\n",
              "  <tbody>\n",
              "    <tr>\n",
              "      <th>0</th>\n",
              "      <td>AFG</td>\n",
              "      <td>Asia</td>\n",
              "      <td>Afghanistan</td>\n",
              "      <td>2020-02-24</td>\n",
              "      <td>1.0</td>\n",
              "      <td>1.0</td>\n",
              "      <td>NaN</td>\n",
              "      <td>NaN</td>\n",
              "      <td>NaN</td>\n",
              "      <td>NaN</td>\n",
              "      <td>0.025</td>\n",
              "      <td>0.025</td>\n",
              "      <td>NaN</td>\n",
              "      <td>NaN</td>\n",
              "      <td>NaN</td>\n",
              "      <td>NaN</td>\n",
              "      <td>NaN</td>\n",
              "      <td>NaN</td>\n",
              "      <td>NaN</td>\n",
              "      <td>NaN</td>\n",
              "      <td>NaN</td>\n",
              "      <td>NaN</td>\n",
              "      <td>NaN</td>\n",
              "      <td>NaN</td>\n",
              "      <td>NaN</td>\n",
              "      <td>NaN</td>\n",
              "      <td>NaN</td>\n",
              "      <td>NaN</td>\n",
              "      <td>NaN</td>\n",
              "      <td>NaN</td>\n",
              "      <td>NaN</td>\n",
              "      <td>NaN</td>\n",
              "      <td>NaN</td>\n",
              "      <td>NaN</td>\n",
              "      <td>NaN</td>\n",
              "      <td>NaN</td>\n",
              "      <td>NaN</td>\n",
              "      <td>NaN</td>\n",
              "      <td>NaN</td>\n",
              "      <td>NaN</td>\n",
              "      <td>NaN</td>\n",
              "      <td>NaN</td>\n",
              "      <td>NaN</td>\n",
              "      <td>NaN</td>\n",
              "      <td>NaN</td>\n",
              "      <td>8.33</td>\n",
              "      <td>39835428.0</td>\n",
              "      <td>54.422</td>\n",
              "      <td>18.6</td>\n",
              "      <td>2.581</td>\n",
              "      <td>1.337</td>\n",
              "      <td>1803.987</td>\n",
              "      <td>NaN</td>\n",
              "      <td>597.029</td>\n",
              "      <td>9.59</td>\n",
              "      <td>NaN</td>\n",
              "      <td>NaN</td>\n",
              "      <td>37.746</td>\n",
              "      <td>0.5</td>\n",
              "      <td>64.83</td>\n",
              "      <td>0.511</td>\n",
              "      <td>NaN</td>\n",
              "    </tr>\n",
              "    <tr>\n",
              "      <th>1</th>\n",
              "      <td>AFG</td>\n",
              "      <td>Asia</td>\n",
              "      <td>Afghanistan</td>\n",
              "      <td>2020-02-25</td>\n",
              "      <td>1.0</td>\n",
              "      <td>0.0</td>\n",
              "      <td>NaN</td>\n",
              "      <td>NaN</td>\n",
              "      <td>NaN</td>\n",
              "      <td>NaN</td>\n",
              "      <td>0.025</td>\n",
              "      <td>0.000</td>\n",
              "      <td>NaN</td>\n",
              "      <td>NaN</td>\n",
              "      <td>NaN</td>\n",
              "      <td>NaN</td>\n",
              "      <td>NaN</td>\n",
              "      <td>NaN</td>\n",
              "      <td>NaN</td>\n",
              "      <td>NaN</td>\n",
              "      <td>NaN</td>\n",
              "      <td>NaN</td>\n",
              "      <td>NaN</td>\n",
              "      <td>NaN</td>\n",
              "      <td>NaN</td>\n",
              "      <td>NaN</td>\n",
              "      <td>NaN</td>\n",
              "      <td>NaN</td>\n",
              "      <td>NaN</td>\n",
              "      <td>NaN</td>\n",
              "      <td>NaN</td>\n",
              "      <td>NaN</td>\n",
              "      <td>NaN</td>\n",
              "      <td>NaN</td>\n",
              "      <td>NaN</td>\n",
              "      <td>NaN</td>\n",
              "      <td>NaN</td>\n",
              "      <td>NaN</td>\n",
              "      <td>NaN</td>\n",
              "      <td>NaN</td>\n",
              "      <td>NaN</td>\n",
              "      <td>NaN</td>\n",
              "      <td>NaN</td>\n",
              "      <td>NaN</td>\n",
              "      <td>NaN</td>\n",
              "      <td>8.33</td>\n",
              "      <td>39835428.0</td>\n",
              "      <td>54.422</td>\n",
              "      <td>18.6</td>\n",
              "      <td>2.581</td>\n",
              "      <td>1.337</td>\n",
              "      <td>1803.987</td>\n",
              "      <td>NaN</td>\n",
              "      <td>597.029</td>\n",
              "      <td>9.59</td>\n",
              "      <td>NaN</td>\n",
              "      <td>NaN</td>\n",
              "      <td>37.746</td>\n",
              "      <td>0.5</td>\n",
              "      <td>64.83</td>\n",
              "      <td>0.511</td>\n",
              "      <td>NaN</td>\n",
              "    </tr>\n",
              "    <tr>\n",
              "      <th>2</th>\n",
              "      <td>AFG</td>\n",
              "      <td>Asia</td>\n",
              "      <td>Afghanistan</td>\n",
              "      <td>2020-02-26</td>\n",
              "      <td>1.0</td>\n",
              "      <td>0.0</td>\n",
              "      <td>NaN</td>\n",
              "      <td>NaN</td>\n",
              "      <td>NaN</td>\n",
              "      <td>NaN</td>\n",
              "      <td>0.025</td>\n",
              "      <td>0.000</td>\n",
              "      <td>NaN</td>\n",
              "      <td>NaN</td>\n",
              "      <td>NaN</td>\n",
              "      <td>NaN</td>\n",
              "      <td>NaN</td>\n",
              "      <td>NaN</td>\n",
              "      <td>NaN</td>\n",
              "      <td>NaN</td>\n",
              "      <td>NaN</td>\n",
              "      <td>NaN</td>\n",
              "      <td>NaN</td>\n",
              "      <td>NaN</td>\n",
              "      <td>NaN</td>\n",
              "      <td>NaN</td>\n",
              "      <td>NaN</td>\n",
              "      <td>NaN</td>\n",
              "      <td>NaN</td>\n",
              "      <td>NaN</td>\n",
              "      <td>NaN</td>\n",
              "      <td>NaN</td>\n",
              "      <td>NaN</td>\n",
              "      <td>NaN</td>\n",
              "      <td>NaN</td>\n",
              "      <td>NaN</td>\n",
              "      <td>NaN</td>\n",
              "      <td>NaN</td>\n",
              "      <td>NaN</td>\n",
              "      <td>NaN</td>\n",
              "      <td>NaN</td>\n",
              "      <td>NaN</td>\n",
              "      <td>NaN</td>\n",
              "      <td>NaN</td>\n",
              "      <td>NaN</td>\n",
              "      <td>8.33</td>\n",
              "      <td>39835428.0</td>\n",
              "      <td>54.422</td>\n",
              "      <td>18.6</td>\n",
              "      <td>2.581</td>\n",
              "      <td>1.337</td>\n",
              "      <td>1803.987</td>\n",
              "      <td>NaN</td>\n",
              "      <td>597.029</td>\n",
              "      <td>9.59</td>\n",
              "      <td>NaN</td>\n",
              "      <td>NaN</td>\n",
              "      <td>37.746</td>\n",
              "      <td>0.5</td>\n",
              "      <td>64.83</td>\n",
              "      <td>0.511</td>\n",
              "      <td>NaN</td>\n",
              "    </tr>\n",
              "  </tbody>\n",
              "</table>\n",
              "</div>"
            ],
            "text/plain": [
              "  iso_code continent  ... human_development_index excess_mortality\n",
              "0      AFG      Asia  ...                   0.511              NaN\n",
              "1      AFG      Asia  ...                   0.511              NaN\n",
              "2      AFG      Asia  ...                   0.511              NaN\n",
              "\n",
              "[3 rows x 62 columns]"
            ]
          },
          "metadata": {},
          "execution_count": 49
        }
      ]
    },
    {
      "cell_type": "code",
      "metadata": {
        "id": "3vNYMFLu44vh"
      },
      "source": [
        "np.random.seed(RANDOM_SEED)\n"
      ],
      "execution_count": null,
      "outputs": []
    },
    {
      "cell_type": "code",
      "metadata": {
        "id": "T3NxPVd548CS"
      },
      "source": [
        "\n",
        "if TRAIN_LOCATION:\n",
        "    df = df.loc[df['location']==TRAIN_LOCATION]\n",
        "df.drop(['location'], axis=1, inplace=True)\n",
        "df.set_index('date', inplace=True)\n",
        "df.index = pd.to_datetime(df.index)"
      ],
      "execution_count": null,
      "outputs": []
    },
    {
      "cell_type": "code",
      "metadata": {
        "colab": {
          "base_uri": "https://localhost:8080/",
          "height": 340
        },
        "id": "4jNqatYE4_II",
        "outputId": "24ff6a1e-6ab9-4e10-a578-c3610ae944ba"
      },
      "source": [
        "df.head()"
      ],
      "execution_count": null,
      "outputs": [
        {
          "output_type": "execute_result",
          "data": {
            "text/html": [
              "<div>\n",
              "<style scoped>\n",
              "    .dataframe tbody tr th:only-of-type {\n",
              "        vertical-align: middle;\n",
              "    }\n",
              "\n",
              "    .dataframe tbody tr th {\n",
              "        vertical-align: top;\n",
              "    }\n",
              "\n",
              "    .dataframe thead th {\n",
              "        text-align: right;\n",
              "    }\n",
              "</style>\n",
              "<table border=\"1\" class=\"dataframe\">\n",
              "  <thead>\n",
              "    <tr style=\"text-align: right;\">\n",
              "      <th></th>\n",
              "      <th>iso_code</th>\n",
              "      <th>continent</th>\n",
              "      <th>total_cases</th>\n",
              "      <th>new_cases</th>\n",
              "      <th>new_cases_smoothed</th>\n",
              "      <th>total_deaths</th>\n",
              "      <th>new_deaths</th>\n",
              "      <th>new_deaths_smoothed</th>\n",
              "      <th>total_cases_per_million</th>\n",
              "      <th>new_cases_per_million</th>\n",
              "      <th>new_cases_smoothed_per_million</th>\n",
              "      <th>total_deaths_per_million</th>\n",
              "      <th>new_deaths_per_million</th>\n",
              "      <th>new_deaths_smoothed_per_million</th>\n",
              "      <th>reproduction_rate</th>\n",
              "      <th>icu_patients</th>\n",
              "      <th>icu_patients_per_million</th>\n",
              "      <th>hosp_patients</th>\n",
              "      <th>hosp_patients_per_million</th>\n",
              "      <th>weekly_icu_admissions</th>\n",
              "      <th>weekly_icu_admissions_per_million</th>\n",
              "      <th>weekly_hosp_admissions</th>\n",
              "      <th>weekly_hosp_admissions_per_million</th>\n",
              "      <th>new_tests</th>\n",
              "      <th>total_tests</th>\n",
              "      <th>total_tests_per_thousand</th>\n",
              "      <th>new_tests_per_thousand</th>\n",
              "      <th>new_tests_smoothed</th>\n",
              "      <th>new_tests_smoothed_per_thousand</th>\n",
              "      <th>positive_rate</th>\n",
              "      <th>tests_per_case</th>\n",
              "      <th>tests_units</th>\n",
              "      <th>total_vaccinations</th>\n",
              "      <th>people_vaccinated</th>\n",
              "      <th>people_fully_vaccinated</th>\n",
              "      <th>total_boosters</th>\n",
              "      <th>new_vaccinations</th>\n",
              "      <th>new_vaccinations_smoothed</th>\n",
              "      <th>total_vaccinations_per_hundred</th>\n",
              "      <th>people_vaccinated_per_hundred</th>\n",
              "      <th>people_fully_vaccinated_per_hundred</th>\n",
              "      <th>total_boosters_per_hundred</th>\n",
              "      <th>new_vaccinations_smoothed_per_million</th>\n",
              "      <th>stringency_index</th>\n",
              "      <th>population</th>\n",
              "      <th>population_density</th>\n",
              "      <th>median_age</th>\n",
              "      <th>aged_65_older</th>\n",
              "      <th>aged_70_older</th>\n",
              "      <th>gdp_per_capita</th>\n",
              "      <th>extreme_poverty</th>\n",
              "      <th>cardiovasc_death_rate</th>\n",
              "      <th>diabetes_prevalence</th>\n",
              "      <th>female_smokers</th>\n",
              "      <th>male_smokers</th>\n",
              "      <th>handwashing_facilities</th>\n",
              "      <th>hospital_beds_per_thousand</th>\n",
              "      <th>life_expectancy</th>\n",
              "      <th>human_development_index</th>\n",
              "      <th>excess_mortality</th>\n",
              "    </tr>\n",
              "    <tr>\n",
              "      <th>date</th>\n",
              "      <th></th>\n",
              "      <th></th>\n",
              "      <th></th>\n",
              "      <th></th>\n",
              "      <th></th>\n",
              "      <th></th>\n",
              "      <th></th>\n",
              "      <th></th>\n",
              "      <th></th>\n",
              "      <th></th>\n",
              "      <th></th>\n",
              "      <th></th>\n",
              "      <th></th>\n",
              "      <th></th>\n",
              "      <th></th>\n",
              "      <th></th>\n",
              "      <th></th>\n",
              "      <th></th>\n",
              "      <th></th>\n",
              "      <th></th>\n",
              "      <th></th>\n",
              "      <th></th>\n",
              "      <th></th>\n",
              "      <th></th>\n",
              "      <th></th>\n",
              "      <th></th>\n",
              "      <th></th>\n",
              "      <th></th>\n",
              "      <th></th>\n",
              "      <th></th>\n",
              "      <th></th>\n",
              "      <th></th>\n",
              "      <th></th>\n",
              "      <th></th>\n",
              "      <th></th>\n",
              "      <th></th>\n",
              "      <th></th>\n",
              "      <th></th>\n",
              "      <th></th>\n",
              "      <th></th>\n",
              "      <th></th>\n",
              "      <th></th>\n",
              "      <th></th>\n",
              "      <th></th>\n",
              "      <th></th>\n",
              "      <th></th>\n",
              "      <th></th>\n",
              "      <th></th>\n",
              "      <th></th>\n",
              "      <th></th>\n",
              "      <th></th>\n",
              "      <th></th>\n",
              "      <th></th>\n",
              "      <th></th>\n",
              "      <th></th>\n",
              "      <th></th>\n",
              "      <th></th>\n",
              "      <th></th>\n",
              "      <th></th>\n",
              "      <th></th>\n",
              "    </tr>\n",
              "  </thead>\n",
              "  <tbody>\n",
              "    <tr>\n",
              "      <th>2020-03-02</th>\n",
              "      <td>IDN</td>\n",
              "      <td>Asia</td>\n",
              "      <td>2.0</td>\n",
              "      <td>2.0</td>\n",
              "      <td>NaN</td>\n",
              "      <td>NaN</td>\n",
              "      <td>NaN</td>\n",
              "      <td>NaN</td>\n",
              "      <td>0.007</td>\n",
              "      <td>0.007</td>\n",
              "      <td>NaN</td>\n",
              "      <td>NaN</td>\n",
              "      <td>NaN</td>\n",
              "      <td>NaN</td>\n",
              "      <td>NaN</td>\n",
              "      <td>NaN</td>\n",
              "      <td>NaN</td>\n",
              "      <td>NaN</td>\n",
              "      <td>NaN</td>\n",
              "      <td>NaN</td>\n",
              "      <td>NaN</td>\n",
              "      <td>NaN</td>\n",
              "      <td>NaN</td>\n",
              "      <td>NaN</td>\n",
              "      <td>NaN</td>\n",
              "      <td>NaN</td>\n",
              "      <td>NaN</td>\n",
              "      <td>NaN</td>\n",
              "      <td>NaN</td>\n",
              "      <td>NaN</td>\n",
              "      <td>NaN</td>\n",
              "      <td>NaN</td>\n",
              "      <td>NaN</td>\n",
              "      <td>NaN</td>\n",
              "      <td>NaN</td>\n",
              "      <td>NaN</td>\n",
              "      <td>NaN</td>\n",
              "      <td>NaN</td>\n",
              "      <td>NaN</td>\n",
              "      <td>NaN</td>\n",
              "      <td>NaN</td>\n",
              "      <td>NaN</td>\n",
              "      <td>NaN</td>\n",
              "      <td>28.70</td>\n",
              "      <td>276361788.0</td>\n",
              "      <td>145.725</td>\n",
              "      <td>29.3</td>\n",
              "      <td>5.319</td>\n",
              "      <td>3.053</td>\n",
              "      <td>11188.744</td>\n",
              "      <td>5.7</td>\n",
              "      <td>342.864</td>\n",
              "      <td>6.32</td>\n",
              "      <td>2.8</td>\n",
              "      <td>76.1</td>\n",
              "      <td>64.204</td>\n",
              "      <td>1.04</td>\n",
              "      <td>71.72</td>\n",
              "      <td>0.718</td>\n",
              "      <td>NaN</td>\n",
              "    </tr>\n",
              "    <tr>\n",
              "      <th>2020-03-03</th>\n",
              "      <td>IDN</td>\n",
              "      <td>Asia</td>\n",
              "      <td>2.0</td>\n",
              "      <td>0.0</td>\n",
              "      <td>NaN</td>\n",
              "      <td>NaN</td>\n",
              "      <td>NaN</td>\n",
              "      <td>NaN</td>\n",
              "      <td>0.007</td>\n",
              "      <td>0.000</td>\n",
              "      <td>NaN</td>\n",
              "      <td>NaN</td>\n",
              "      <td>NaN</td>\n",
              "      <td>NaN</td>\n",
              "      <td>NaN</td>\n",
              "      <td>NaN</td>\n",
              "      <td>NaN</td>\n",
              "      <td>NaN</td>\n",
              "      <td>NaN</td>\n",
              "      <td>NaN</td>\n",
              "      <td>NaN</td>\n",
              "      <td>NaN</td>\n",
              "      <td>NaN</td>\n",
              "      <td>NaN</td>\n",
              "      <td>NaN</td>\n",
              "      <td>NaN</td>\n",
              "      <td>NaN</td>\n",
              "      <td>NaN</td>\n",
              "      <td>NaN</td>\n",
              "      <td>NaN</td>\n",
              "      <td>NaN</td>\n",
              "      <td>NaN</td>\n",
              "      <td>NaN</td>\n",
              "      <td>NaN</td>\n",
              "      <td>NaN</td>\n",
              "      <td>NaN</td>\n",
              "      <td>NaN</td>\n",
              "      <td>NaN</td>\n",
              "      <td>NaN</td>\n",
              "      <td>NaN</td>\n",
              "      <td>NaN</td>\n",
              "      <td>NaN</td>\n",
              "      <td>NaN</td>\n",
              "      <td>37.04</td>\n",
              "      <td>276361788.0</td>\n",
              "      <td>145.725</td>\n",
              "      <td>29.3</td>\n",
              "      <td>5.319</td>\n",
              "      <td>3.053</td>\n",
              "      <td>11188.744</td>\n",
              "      <td>5.7</td>\n",
              "      <td>342.864</td>\n",
              "      <td>6.32</td>\n",
              "      <td>2.8</td>\n",
              "      <td>76.1</td>\n",
              "      <td>64.204</td>\n",
              "      <td>1.04</td>\n",
              "      <td>71.72</td>\n",
              "      <td>0.718</td>\n",
              "      <td>NaN</td>\n",
              "    </tr>\n",
              "    <tr>\n",
              "      <th>2020-03-04</th>\n",
              "      <td>IDN</td>\n",
              "      <td>Asia</td>\n",
              "      <td>2.0</td>\n",
              "      <td>0.0</td>\n",
              "      <td>NaN</td>\n",
              "      <td>NaN</td>\n",
              "      <td>NaN</td>\n",
              "      <td>NaN</td>\n",
              "      <td>0.007</td>\n",
              "      <td>0.000</td>\n",
              "      <td>NaN</td>\n",
              "      <td>NaN</td>\n",
              "      <td>NaN</td>\n",
              "      <td>NaN</td>\n",
              "      <td>NaN</td>\n",
              "      <td>NaN</td>\n",
              "      <td>NaN</td>\n",
              "      <td>NaN</td>\n",
              "      <td>NaN</td>\n",
              "      <td>NaN</td>\n",
              "      <td>NaN</td>\n",
              "      <td>NaN</td>\n",
              "      <td>NaN</td>\n",
              "      <td>NaN</td>\n",
              "      <td>NaN</td>\n",
              "      <td>NaN</td>\n",
              "      <td>NaN</td>\n",
              "      <td>NaN</td>\n",
              "      <td>NaN</td>\n",
              "      <td>NaN</td>\n",
              "      <td>NaN</td>\n",
              "      <td>NaN</td>\n",
              "      <td>NaN</td>\n",
              "      <td>NaN</td>\n",
              "      <td>NaN</td>\n",
              "      <td>NaN</td>\n",
              "      <td>NaN</td>\n",
              "      <td>NaN</td>\n",
              "      <td>NaN</td>\n",
              "      <td>NaN</td>\n",
              "      <td>NaN</td>\n",
              "      <td>NaN</td>\n",
              "      <td>NaN</td>\n",
              "      <td>37.04</td>\n",
              "      <td>276361788.0</td>\n",
              "      <td>145.725</td>\n",
              "      <td>29.3</td>\n",
              "      <td>5.319</td>\n",
              "      <td>3.053</td>\n",
              "      <td>11188.744</td>\n",
              "      <td>5.7</td>\n",
              "      <td>342.864</td>\n",
              "      <td>6.32</td>\n",
              "      <td>2.8</td>\n",
              "      <td>76.1</td>\n",
              "      <td>64.204</td>\n",
              "      <td>1.04</td>\n",
              "      <td>71.72</td>\n",
              "      <td>0.718</td>\n",
              "      <td>NaN</td>\n",
              "    </tr>\n",
              "    <tr>\n",
              "      <th>2020-03-05</th>\n",
              "      <td>IDN</td>\n",
              "      <td>Asia</td>\n",
              "      <td>2.0</td>\n",
              "      <td>0.0</td>\n",
              "      <td>NaN</td>\n",
              "      <td>NaN</td>\n",
              "      <td>NaN</td>\n",
              "      <td>NaN</td>\n",
              "      <td>0.007</td>\n",
              "      <td>0.000</td>\n",
              "      <td>NaN</td>\n",
              "      <td>NaN</td>\n",
              "      <td>NaN</td>\n",
              "      <td>NaN</td>\n",
              "      <td>NaN</td>\n",
              "      <td>NaN</td>\n",
              "      <td>NaN</td>\n",
              "      <td>NaN</td>\n",
              "      <td>NaN</td>\n",
              "      <td>NaN</td>\n",
              "      <td>NaN</td>\n",
              "      <td>NaN</td>\n",
              "      <td>NaN</td>\n",
              "      <td>NaN</td>\n",
              "      <td>NaN</td>\n",
              "      <td>NaN</td>\n",
              "      <td>NaN</td>\n",
              "      <td>NaN</td>\n",
              "      <td>NaN</td>\n",
              "      <td>NaN</td>\n",
              "      <td>NaN</td>\n",
              "      <td>NaN</td>\n",
              "      <td>NaN</td>\n",
              "      <td>NaN</td>\n",
              "      <td>NaN</td>\n",
              "      <td>NaN</td>\n",
              "      <td>NaN</td>\n",
              "      <td>NaN</td>\n",
              "      <td>NaN</td>\n",
              "      <td>NaN</td>\n",
              "      <td>NaN</td>\n",
              "      <td>NaN</td>\n",
              "      <td>NaN</td>\n",
              "      <td>37.04</td>\n",
              "      <td>276361788.0</td>\n",
              "      <td>145.725</td>\n",
              "      <td>29.3</td>\n",
              "      <td>5.319</td>\n",
              "      <td>3.053</td>\n",
              "      <td>11188.744</td>\n",
              "      <td>5.7</td>\n",
              "      <td>342.864</td>\n",
              "      <td>6.32</td>\n",
              "      <td>2.8</td>\n",
              "      <td>76.1</td>\n",
              "      <td>64.204</td>\n",
              "      <td>1.04</td>\n",
              "      <td>71.72</td>\n",
              "      <td>0.718</td>\n",
              "      <td>NaN</td>\n",
              "    </tr>\n",
              "    <tr>\n",
              "      <th>2020-03-06</th>\n",
              "      <td>IDN</td>\n",
              "      <td>Asia</td>\n",
              "      <td>4.0</td>\n",
              "      <td>2.0</td>\n",
              "      <td>NaN</td>\n",
              "      <td>NaN</td>\n",
              "      <td>NaN</td>\n",
              "      <td>NaN</td>\n",
              "      <td>0.014</td>\n",
              "      <td>0.007</td>\n",
              "      <td>NaN</td>\n",
              "      <td>NaN</td>\n",
              "      <td>NaN</td>\n",
              "      <td>NaN</td>\n",
              "      <td>NaN</td>\n",
              "      <td>NaN</td>\n",
              "      <td>NaN</td>\n",
              "      <td>NaN</td>\n",
              "      <td>NaN</td>\n",
              "      <td>NaN</td>\n",
              "      <td>NaN</td>\n",
              "      <td>NaN</td>\n",
              "      <td>NaN</td>\n",
              "      <td>NaN</td>\n",
              "      <td>NaN</td>\n",
              "      <td>NaN</td>\n",
              "      <td>NaN</td>\n",
              "      <td>NaN</td>\n",
              "      <td>NaN</td>\n",
              "      <td>NaN</td>\n",
              "      <td>NaN</td>\n",
              "      <td>NaN</td>\n",
              "      <td>NaN</td>\n",
              "      <td>NaN</td>\n",
              "      <td>NaN</td>\n",
              "      <td>NaN</td>\n",
              "      <td>NaN</td>\n",
              "      <td>NaN</td>\n",
              "      <td>NaN</td>\n",
              "      <td>NaN</td>\n",
              "      <td>NaN</td>\n",
              "      <td>NaN</td>\n",
              "      <td>NaN</td>\n",
              "      <td>37.04</td>\n",
              "      <td>276361788.0</td>\n",
              "      <td>145.725</td>\n",
              "      <td>29.3</td>\n",
              "      <td>5.319</td>\n",
              "      <td>3.053</td>\n",
              "      <td>11188.744</td>\n",
              "      <td>5.7</td>\n",
              "      <td>342.864</td>\n",
              "      <td>6.32</td>\n",
              "      <td>2.8</td>\n",
              "      <td>76.1</td>\n",
              "      <td>64.204</td>\n",
              "      <td>1.04</td>\n",
              "      <td>71.72</td>\n",
              "      <td>0.718</td>\n",
              "      <td>NaN</td>\n",
              "    </tr>\n",
              "  </tbody>\n",
              "</table>\n",
              "</div>"
            ],
            "text/plain": [
              "           iso_code continent  ...  human_development_index  excess_mortality\n",
              "date                           ...                                           \n",
              "2020-03-02      IDN      Asia  ...                    0.718               NaN\n",
              "2020-03-03      IDN      Asia  ...                    0.718               NaN\n",
              "2020-03-04      IDN      Asia  ...                    0.718               NaN\n",
              "2020-03-05      IDN      Asia  ...                    0.718               NaN\n",
              "2020-03-06      IDN      Asia  ...                    0.718               NaN\n",
              "\n",
              "[5 rows x 60 columns]"
            ]
          },
          "metadata": {},
          "execution_count": 12
        }
      ]
    },
    {
      "cell_type": "code",
      "metadata": {
        "id": "8MauQxeC5A9p"
      },
      "source": [
        "cases = df.filter([TRAIN_CASE])\n",
        "cases = cases[(cases.T != 0).any()]\n"
      ],
      "execution_count": null,
      "outputs": []
    },
    {
      "cell_type": "code",
      "metadata": {
        "colab": {
          "base_uri": "https://localhost:8080/",
          "height": 235
        },
        "id": "4F5qfMsO5GBg",
        "outputId": "60ae35da-9953-4104-e805-9d46f61a7986"
      },
      "source": [
        "cases.head()"
      ],
      "execution_count": null,
      "outputs": [
        {
          "output_type": "execute_result",
          "data": {
            "text/html": [
              "<div>\n",
              "<style scoped>\n",
              "    .dataframe tbody tr th:only-of-type {\n",
              "        vertical-align: middle;\n",
              "    }\n",
              "\n",
              "    .dataframe tbody tr th {\n",
              "        vertical-align: top;\n",
              "    }\n",
              "\n",
              "    .dataframe thead th {\n",
              "        text-align: right;\n",
              "    }\n",
              "</style>\n",
              "<table border=\"1\" class=\"dataframe\">\n",
              "  <thead>\n",
              "    <tr style=\"text-align: right;\">\n",
              "      <th></th>\n",
              "      <th>new_cases</th>\n",
              "    </tr>\n",
              "    <tr>\n",
              "      <th>date</th>\n",
              "      <th></th>\n",
              "    </tr>\n",
              "  </thead>\n",
              "  <tbody>\n",
              "    <tr>\n",
              "      <th>2020-03-02</th>\n",
              "      <td>2.0</td>\n",
              "    </tr>\n",
              "    <tr>\n",
              "      <th>2020-03-06</th>\n",
              "      <td>2.0</td>\n",
              "    </tr>\n",
              "    <tr>\n",
              "      <th>2020-03-08</th>\n",
              "      <td>2.0</td>\n",
              "    </tr>\n",
              "    <tr>\n",
              "      <th>2020-03-09</th>\n",
              "      <td>13.0</td>\n",
              "    </tr>\n",
              "    <tr>\n",
              "      <th>2020-03-10</th>\n",
              "      <td>8.0</td>\n",
              "    </tr>\n",
              "  </tbody>\n",
              "</table>\n",
              "</div>"
            ],
            "text/plain": [
              "            new_cases\n",
              "date                 \n",
              "2020-03-02        2.0\n",
              "2020-03-06        2.0\n",
              "2020-03-08        2.0\n",
              "2020-03-09       13.0\n",
              "2020-03-10        8.0"
            ]
          },
          "metadata": {},
          "execution_count": 14
        }
      ]
    },
    {
      "cell_type": "code",
      "metadata": {
        "colab": {
          "base_uri": "https://localhost:8080/"
        },
        "id": "ALT0SJU45Lhp",
        "outputId": "3e2aac76-0f19-4af8-8be8-05bb7d3e3472"
      },
      "source": [
        "cases.shape"
      ],
      "execution_count": null,
      "outputs": [
        {
          "output_type": "execute_result",
          "data": {
            "text/plain": [
              "(545, 1)"
            ]
          },
          "metadata": {},
          "execution_count": 15
        }
      ]
    },
    {
      "cell_type": "markdown",
      "metadata": {
        "id": "-_AYYPJ3MwfD"
      },
      "source": [
        "#Tracé des données de cas de train\n"
      ]
    },
    {
      "cell_type": "code",
      "metadata": {
        "colab": {
          "base_uri": "https://localhost:8080/",
          "height": 335
        },
        "id": "TEawIq735IRh",
        "outputId": "2f66efb5-3e0f-4dce-ece7-f489a721a2f0"
      },
      "source": [
        "plt.suptitle('Actual Cases Based on \\'' + TRAIN_CASE + '\\'')\n",
        "plt.title('Location = ' + TRAIN_LOCATION, fontsize='medium')\n",
        "plt.plot(cases, label=TRAIN_CASE)\n",
        "plt.xlabel('date')\n",
        "plt.ylabel('case')\n",
        "plt.xticks(rotation=45)\n",
        "plt.legend()\n",
        "plt.show()\n",
        "plt.show()"
      ],
      "execution_count": null,
      "outputs": [
        {
          "output_type": "display_data",
          "data": {
            "image/png": "[encoded data removed]",
            "text/plain": [
              "<Figure size 432x288 with 1 Axes>"
            ]
          },
          "metadata": {
            "needs_background": "light"
          }
        }
      ]
    },
    {
      "cell_type": "markdown",
      "metadata": {
        "id": "uZydVCyW5ONR"
      },
      "source": [
        "# préparation le fonctions "
      ]
    },
    {
      "cell_type": "code",
      "metadata": {
        "id": "tAehF8Ld5NsX"
      },
      "source": [
        "def data_split(data, look_back=1):\n",
        "    x, y = [], []\n",
        "    for i in range(len(data) - look_back - 1):\n",
        "        a = data[i:(i + look_back), 0]\n",
        "        x.append(a)\n",
        "        y.append(data[i + look_back, 0])\n",
        "    return np.array(x), np.array(y)"
      ],
      "execution_count": null,
      "outputs": []
    },
    {
      "cell_type": "markdown",
      "metadata": {
        "id": "GYySBc545R4c"
      },
      "source": [
        "#Preparing data & model"
      ]
    },
    {
      "cell_type": "code",
      "metadata": {
        "id": "fnPtVWVJ5SFB"
      },
      "source": [
        "test_size = TEST_SIZE\n",
        "test_size = int(cases.shape[0] * test_size)\n",
        "train_cases = cases[:-test_size]\n",
        "test_cases = cases[-test_size:]"
      ],
      "execution_count": null,
      "outputs": []
    },
    {
      "cell_type": "code",
      "metadata": {
        "colab": {
          "base_uri": "https://localhost:8080/"
        },
        "id": "3qrwGprh5TKK",
        "outputId": "c680ae3b-aec5-4b8d-bc44-2a2fa061bc9d"
      },
      "source": [
        "train_cases.shape"
      ],
      "execution_count": null,
      "outputs": [
        {
          "output_type": "execute_result",
          "data": {
            "text/plain": [
              "(382, 1)"
            ]
          },
          "metadata": {},
          "execution_count": 23
        }
      ]
    },
    {
      "cell_type": "code",
      "metadata": {
        "colab": {
          "base_uri": "https://localhost:8080/"
        },
        "id": "6nYe9Dwj5U8L",
        "outputId": "6f5e7dfb-b673-443e-d4c4-b8f7fec64643"
      },
      "source": [
        "\n",
        "test_cases.shape"
      ],
      "execution_count": null,
      "outputs": [
        {
          "output_type": "execute_result",
          "data": {
            "text/plain": [
              "(163, 1)"
            ]
          },
          "metadata": {},
          "execution_count": 24
        }
      ]
    },
    {
      "cell_type": "markdown",
      "metadata": {
        "id": "RKFeicrA5Xy4"
      },
      "source": [
        "#Data normalization\n"
      ]
    },
    {
      "cell_type": "code",
      "metadata": {
        "id": "TbA7Tnwa5VCv"
      },
      "source": [
        "\n",
        "scaler = MinMaxScaler(feature_range=(-1, 1))\n",
        "scaler = scaler.fit(cases)\n",
        "all_cases = scaler.transform(cases)\n",
        "train_cases = scaler.transform(train_cases)\n",
        "test_cases = scaler.transform(test_cases)"
      ],
      "execution_count": null,
      "outputs": []
    },
    {
      "cell_type": "code",
      "metadata": {
        "colab": {
          "base_uri": "https://localhost:8080/"
        },
        "id": "Mv1QvZgM5ZNv",
        "outputId": "0f0bd454-ed66-4d3b-c2d8-7e2a314c13f9"
      },
      "source": [
        "all_cases.shape"
      ],
      "execution_count": null,
      "outputs": [
        {
          "output_type": "execute_result",
          "data": {
            "text/plain": [
              "(545, 1)"
            ]
          },
          "metadata": {},
          "execution_count": 26
        }
      ]
    },
    {
      "cell_type": "code",
      "metadata": {
        "colab": {
          "base_uri": "https://localhost:8080/"
        },
        "id": "sNYzMJC25bgC",
        "outputId": "946fa94a-fabc-4536-9609-47cf09f13fc8"
      },
      "source": [
        "train_cases.shape"
      ],
      "execution_count": null,
      "outputs": [
        {
          "output_type": "execute_result",
          "data": {
            "text/plain": [
              "(382, 1)"
            ]
          },
          "metadata": {},
          "execution_count": 27
        }
      ]
    },
    {
      "cell_type": "code",
      "metadata": {
        "colab": {
          "base_uri": "https://localhost:8080/"
        },
        "id": "hj65t1Lg5bk9",
        "outputId": "6b88ca8c-8d3d-4f3c-dca9-bdb9280b461c"
      },
      "source": [
        "test_cases.shape\n"
      ],
      "execution_count": null,
      "outputs": [
        {
          "output_type": "execute_result",
          "data": {
            "text/plain": [
              "(163, 1)"
            ]
          },
          "metadata": {},
          "execution_count": 28
        }
      ]
    },
    {
      "cell_type": "code",
      "metadata": {
        "id": "7phgUFcF5bn9"
      },
      "source": [
        "\n",
        "look_back = LOOK_BACK\n",
        "X_all, Y_all = data_split(all_cases, look_back=look_back)\n",
        "X_train, Y_train = data_split(train_cases, look_back=look_back)\n",
        "X_test, Y_test = data_split(test_cases, look_back=look_back)"
      ],
      "execution_count": null,
      "outputs": []
    },
    {
      "cell_type": "markdown",
      "metadata": {
        "id": "6T2pQqG-5h-Q"
      },
      "source": [
        "LSTM\n",
        "\n",
        "\n"
      ]
    },
    {
      "cell_type": "code",
      "metadata": {
        "id": "Mtrx7ERm5br3"
      },
      "source": [
        "X_all = np.array(X_all).reshape(X_all.shape[0], 1, 1)\n",
        "Y_all = np.array(Y_all).reshape(Y_all.shape[0], 1)\n",
        "X_train = np.array(X_train).reshape(X_train.shape[0], 1, 1)\n",
        "Y_train = np.array(Y_train).reshape(Y_train.shape[0], 1)\n",
        "X_test = np.array(X_test).reshape(X_test.shape[0], 1, 1)\n",
        "Y_test = np.array(Y_test).reshape(Y_test.shape[0], 1)"
      ],
      "execution_count": null,
      "outputs": []
    },
    {
      "cell_type": "markdown",
      "metadata": {
        "id": "epspIhR45kHU"
      },
      "source": [
        "batch_size = BATCH_SIZE\n",
        "model = Sequential()\n",
        "model.add(LSTM(4, return_sequences=True, \n",
        "               batch_input_shape=(batch_size, X_train.shape[1], X_train.shape[2]), \n",
        "               stateful=True))\n",
        "model.add(LSTM(1, stateful=True))\n",
        "model.add(Dense(Y_train.shape[1]))\n",
        "model.compile(loss='mean_squared_error', optimizer='adam')\n",
        "print(model.summary())"
      ]
    },
    {
      "cell_type": "markdown",
      "metadata": {
        "id": "Sp0kthHw54Q5"
      },
      "source": [
        "#LSTM timeseries prediction model"
      ]
    },
    {
      "cell_type": "code",
      "metadata": {
        "colab": {
          "base_uri": "https://localhost:8080/",
          "height": 231
        },
        "id": "-FhDNn2-54c3",
        "outputId": "79032e4e-c044-4175-d5a3-2bb337bd3bf0"
      },
      "source": [
        "batch_size = BATCH_SIZE\n",
        "model = Sequential()\n",
        "model.add(LSTM(4, return_sequences=True, \n",
        "               batch_input_shape=(batch_size, X_train.shape[1], X_train.shape[2]), \n",
        "               stateful=True))\n",
        "model.add(LSTM(1, stateful=True))\n",
        "model.add(Dense(Y_train.shape[1]))\n",
        "model.compile(loss='mean_squared_error', optimizer='adam')\n",
        "print(model.summary())"
      ],
      "execution_count": null,
      "outputs": [
        {
          "output_type": "error",
          "ename": "NameError",
          "evalue": "ignored",
          "traceback": [
            "\u001b[0;31m---------------------------------------------------------------------------\u001b[0m",
            "\u001b[0;31mNameError\u001b[0m                                 Traceback (most recent call last)",
            "\u001b[0;32m<ipython-input-7-7b409ac100b8>\u001b[0m in \u001b[0;36m<module>\u001b[0;34m()\u001b[0m\n\u001b[0;32m----> 1\u001b[0;31m \u001b[0mbatch_size\u001b[0m \u001b[0;34m=\u001b[0m \u001b[0mBATCH_SIZE\u001b[0m\u001b[0;34m\u001b[0m\u001b[0;34m\u001b[0m\u001b[0m\n\u001b[0m\u001b[1;32m      2\u001b[0m \u001b[0mmodel\u001b[0m \u001b[0;34m=\u001b[0m \u001b[0mSequential\u001b[0m\u001b[0;34m(\u001b[0m\u001b[0;34m)\u001b[0m\u001b[0;34m\u001b[0m\u001b[0;34m\u001b[0m\u001b[0m\n\u001b[1;32m      3\u001b[0m model.add(LSTM(4, return_sequences=True, \n\u001b[1;32m      4\u001b[0m                \u001b[0mbatch_input_shape\u001b[0m\u001b[0;34m=\u001b[0m\u001b[0;34m(\u001b[0m\u001b[0mbatch_size\u001b[0m\u001b[0;34m,\u001b[0m \u001b[0mX_train\u001b[0m\u001b[0;34m.\u001b[0m\u001b[0mshape\u001b[0m\u001b[0;34m[\u001b[0m\u001b[0;36m1\u001b[0m\u001b[0;34m]\u001b[0m\u001b[0;34m,\u001b[0m \u001b[0mX_train\u001b[0m\u001b[0;34m.\u001b[0m\u001b[0mshape\u001b[0m\u001b[0;34m[\u001b[0m\u001b[0;36m2\u001b[0m\u001b[0;34m]\u001b[0m\u001b[0;34m)\u001b[0m\u001b[0;34m,\u001b[0m\u001b[0;34m\u001b[0m\u001b[0;34m\u001b[0m\u001b[0m\n\u001b[1;32m      5\u001b[0m                stateful=True))\n",
            "\u001b[0;31mNameError\u001b[0m: name 'BATCH_SIZE' is not defined"
          ]
        }
      ]
    },
    {
      "cell_type": "markdown",
      "metadata": {
        "id": "Q3-_LYYH5myW"
      },
      "source": [
        "#Testing the model before going to the future prediction"
      ]
    },
    {
      "cell_type": "markdown",
      "metadata": {
        "id": "HmJPe53NNvQ4"
      },
      "source": [
        "Fitting the model with train data"
      ]
    },
    {
      "cell_type": "code",
      "metadata": {
        "id": "h553W7Wr5nAd",
        "colab": {
          "base_uri": "https://localhost:8080/",
          "height": 231
        },
        "outputId": "17327453-f4ab-4c32-eb7b-b8b129d1517a"
      },
      "source": [
        "epoch = EPOCHS\n",
        "loss = []\n",
        "for i in range(epoch):\n",
        "    print('Iteration ' + str(i + 1) + '/' + str(epoch))\n",
        "    model.fit(X_train, Y_train, batch_size=batch_size, \n",
        "              epochs=1, verbose=1, shuffle=False)\n",
        "    h = model.history\n",
        "    loss.append(h.history['loss'][0])\n",
        "    model.reset_states()"
      ],
      "execution_count": null,
      "outputs": [
        {
          "output_type": "error",
          "ename": "NameError",
          "evalue": "ignored",
          "traceback": [
            "\u001b[0;31m---------------------------------------------------------------------------\u001b[0m",
            "\u001b[0;31mNameError\u001b[0m                                 Traceback (most recent call last)",
            "\u001b[0;32m<ipython-input-6-f797a74acd77>\u001b[0m in \u001b[0;36m<module>\u001b[0;34m()\u001b[0m\n\u001b[0;32m----> 1\u001b[0;31m \u001b[0mepoch\u001b[0m \u001b[0;34m=\u001b[0m \u001b[0mEPOCHS\u001b[0m\u001b[0;34m\u001b[0m\u001b[0;34m\u001b[0m\u001b[0m\n\u001b[0m\u001b[1;32m      2\u001b[0m \u001b[0mloss\u001b[0m \u001b[0;34m=\u001b[0m \u001b[0;34m[\u001b[0m\u001b[0;34m]\u001b[0m\u001b[0;34m\u001b[0m\u001b[0;34m\u001b[0m\u001b[0m\n\u001b[1;32m      3\u001b[0m \u001b[0;32mfor\u001b[0m \u001b[0mi\u001b[0m \u001b[0;32min\u001b[0m \u001b[0mrange\u001b[0m\u001b[0;34m(\u001b[0m\u001b[0mepoch\u001b[0m\u001b[0;34m)\u001b[0m\u001b[0;34m:\u001b[0m\u001b[0;34m\u001b[0m\u001b[0;34m\u001b[0m\u001b[0m\n\u001b[1;32m      4\u001b[0m     \u001b[0mprint\u001b[0m\u001b[0;34m(\u001b[0m\u001b[0;34m'Iteration '\u001b[0m \u001b[0;34m+\u001b[0m \u001b[0mstr\u001b[0m\u001b[0;34m(\u001b[0m\u001b[0mi\u001b[0m \u001b[0;34m+\u001b[0m \u001b[0;36m1\u001b[0m\u001b[0;34m)\u001b[0m \u001b[0;34m+\u001b[0m \u001b[0;34m'/'\u001b[0m \u001b[0;34m+\u001b[0m \u001b[0mstr\u001b[0m\u001b[0;34m(\u001b[0m\u001b[0mepoch\u001b[0m\u001b[0;34m)\u001b[0m\u001b[0;34m)\u001b[0m\u001b[0;34m\u001b[0m\u001b[0;34m\u001b[0m\u001b[0m\n\u001b[1;32m      5\u001b[0m     model.fit(X_train, Y_train, batch_size=batch_size, \n",
            "\u001b[0;31mNameError\u001b[0m: name 'EPOCHS' is not defined"
          ]
        }
      ]
    },
    {
      "cell_type": "markdown",
      "metadata": {
        "id": "X1KjFI9V549W"
      },
      "source": [
        "\n",
        "Plotting model loss history\n",
        "\n",
        "Lower loss provide better prediction\n"
      ]
    },
    {
      "cell_type": "code",
      "metadata": {
        "id": "uqB6cbvS55Mh"
      },
      "source": [
        "plt.plot(loss, label='loss')\n",
        "plt.title('Model Loss History')\n",
        "plt.xlabel('epoch')\n",
        "plt.ylabel('loss')\n",
        "plt.legend()\n",
        "plt.show()"
      ],
      "execution_count": null,
      "outputs": []
    },
    {
      "cell_type": "markdown",
      "metadata": {
        "id": "XrRwAWk46BoO"
      },
      "source": [
        "Predicting with train data\n",
        "\n",
        "This will also set predict input (previous input) into LSTM state which is useful to predict future value"
      ]
    },
    {
      "cell_type": "code",
      "metadata": {
        "id": "4j37vP5p6CCE"
      },
      "source": [
        "all_predict = model.predict(X_all, batch_size=batch_size)\n"
      ],
      "execution_count": null,
      "outputs": []
    },
    {
      "cell_type": "markdown",
      "metadata": {
        "id": "zdEkOhT36GR0"
      },
      "source": [
        "\n",
        "\n",
        "\n",
        "Predicting future value up to n-days\n",
        "\n",
        "In our case, we're going to predict up to DAYS_TO_PREDICT days in the future\n",
        "\n"
      ]
    },
    {
      "cell_type": "code",
      "metadata": {
        "id": "o_XppyAH6GiJ"
      },
      "source": [
        "days_to_predict = DAYS_TO_PREDICT\n",
        "future_predict = []\n",
        "pred_samples = all_predict[-1:]\n",
        "pred_samples = np.array([pred_samples])\n",
        "for i in range(days_to_predict):\n",
        "    pred = model.predict(pred_samples, batch_size=batch_size)\n",
        "    pred = np.array(pred).flatten()\n",
        "    future_predict.append(pred)\n",
        "    new_samples = np.array(pred_samples).flatten()\n",
        "    new_samples = np.append(new_samples, [pred])\n",
        "    new_samples = new_samples[1:]\n",
        "    pred_samples = np.array(new_samples).reshape(1, 1, 1)\n",
        "future_predict = np.array(future_predict).reshape(len(future_predict), 1, 1)"
      ],
      "execution_count": null,
      "outputs": []
    },
    {
      "cell_type": "markdown",
      "metadata": {
        "id": "f8qp4qcU6KUC"
      },
      "source": [
        "Reset LSTM input state for safety"
      ]
    },
    {
      "cell_type": "code",
      "metadata": {
        "id": "4Y1hRJpQ6Kf7"
      },
      "source": [
        "model.reset_states()"
      ],
      "execution_count": null,
      "outputs": []
    },
    {
      "cell_type": "markdown",
      "metadata": {
        "id": "wvyWa5fm6MMm"
      },
      "source": [
        "Reset LSTM input state for safety"
      ]
    },
    {
      "cell_type": "code",
      "metadata": {
        "id": "5D_HTjFq6Mar"
      },
      "source": [
        "\n",
        "f_future_predict = model.predict(future_predict, batch_size=batch_size)"
      ],
      "execution_count": null,
      "outputs": []
    },
    {
      "cell_type": "markdown",
      "metadata": {
        "id": "IFBoM7dH6M_k"
      },
      "source": [
        "\n",
        "Reset LSTM input state for safety\n",
        "\n"
      ]
    },
    {
      "cell_type": "code",
      "metadata": {
        "id": "t_xJI6kC6NL3"
      },
      "source": [
        "model.reset_states()\n"
      ],
      "execution_count": null,
      "outputs": []
    },
    {
      "cell_type": "code",
      "metadata": {
        "id": "n2HDQz5O6POJ"
      },
      "source": [
        "X_all_flatten = np.array(scaler.inverse_transform(\n",
        "    np.array(X_all).reshape(X_all.shape[0], 1)\n",
        ")).flatten().astype('int')\n",
        "X_all_flatten = np.absolute(X_all_flatten)\n",
        "Y_all_flatten = np.array(scaler.inverse_transform(\n",
        "    np.array(Y_all).reshape(Y_all.shape[0], 1)\n",
        ")).flatten().astype('int')\n",
        "Y_all_flatten = np.absolute(Y_all_flatten)\n",
        "all_predict_flatten = np.array(scaler.inverse_transform(\n",
        "    np.array(all_predict).reshape(all_predict.shape[0], 1)\n",
        ")).flatten().astype('int')\n",
        "all_predict_flatten = np.absolute(all_predict_flatten)\n",
        "future_predict_flatten = np.array(scaler.inverse_transform(\n",
        "    np.array(future_predict).reshape(future_predict.shape[0], 1)\n",
        ")).flatten().astype('int')\n",
        "future_predict_flatten = np.absolute(future_predict_flatten)\n",
        "f_future_predict_flatten = np.array(scaler.inverse_transform(\n",
        "    np.array(f_future_predict).reshape(f_future_predict.shape[0], 1)\n",
        ")).flatten().astype('int')\n",
        "f_future_predict_flatten = np.absolute(f_future_predict_flatten)"
      ],
      "execution_count": null,
      "outputs": []
    },
    {
      "cell_type": "markdown",
      "metadata": {
        "id": "VnvUXP-96aDU"
      },
      "source": [
        "\n",
        "Getting RMSE scores"
      ]
    },
    {
      "cell_type": "code",
      "metadata": {
        "id": "ILMFA6lv6to7"
      },
      "source": [
        "all_predict_score = math.sqrt(\n",
        "    mean_squared_error(\n",
        "        Y_all_flatten, \n",
        "        all_predict_flatten\n",
        "    )\n",
        ")"
      ],
      "execution_count": null,
      "outputs": []
    },
    {
      "cell_type": "code",
      "metadata": {
        "id": "ofkLapKq6zHE"
      },
      "source": [
        "'All Score: %.2f RMSE' % (all_predict_score)\n"
      ],
      "execution_count": null,
      "outputs": []
    },
    {
      "cell_type": "markdown",
      "metadata": {
        "id": "6PNp4EYSPIK4"
      },
      "source": [
        "\n",
        "Generate future index (dates)"
      ]
    },
    {
      "cell_type": "code",
      "metadata": {
        "id": "w8MA0INe616d"
      },
      "source": [
        "future_index = pd.date_range(start=cases.index[-1], periods=days_to_predict + 1, closed='right')"
      ],
      "execution_count": null,
      "outputs": []
    },
    {
      "cell_type": "markdown",
      "metadata": {
        "id": "aNOF_sWvPJuJ"
      },
      "source": [
        "\n",
        "Plotting future prediction visualization"
      ]
    },
    {
      "cell_type": "code",
      "metadata": {
        "id": "4Yc8fnAK6aTH"
      },
      "source": [
        "plt.plot(\n",
        "    future_index,\n",
        "    future_predict_flatten,\n",
        "    label='prediction cases'\n",
        ")\n",
        "plt.suptitle('Future Prediction Based on \\'' + TRAIN_CASE + '\\'')\n",
        "plt.title('Location = ' + TRAIN_LOCATION, fontsize='medium')\n",
        "plt.xlabel('date')\n",
        "plt.ylabel('case')\n",
        "plt.xticks(rotation=45)\n",
        "plt.legend()\n",
        "plt.show()"
      ],
      "execution_count": null,
      "outputs": []
    },
    {
      "cell_type": "markdown",
      "metadata": {
        "id": "wXfCVIg96b3V"
      },
      "source": [
        "Plotting future prediction visualization\n",
        "\n"
      ]
    },
    {
      "cell_type": "code",
      "metadata": {
        "id": "HwHCQvrd6cF3"
      },
      "source": [
        "plt.plot(\n",
        "    future_index,\n",
        "    f_future_predict_flatten,\n",
        "    label='f_prediction cases'\n",
        ")\n",
        "plt.suptitle('F_Future Prediction Based on Previous Future Prediction')\n",
        "plt.title('Location = ' + TRAIN_LOCATION, fontsize='medium')\n",
        "plt.xlabel('date')\n",
        "plt.ylabel('case')\n",
        "plt.xticks(rotation=45)\n",
        "plt.legend()\n",
        "plt.show()"
      ],
      "execution_count": null,
      "outputs": []
    },
    {
      "cell_type": "markdown",
      "metadata": {
        "id": "camzzfv6PcRj"
      },
      "source": [
        "\n",
        "Plotting f_future prediction visualization"
      ]
    },
    {
      "cell_type": "code",
      "metadata": {
        "id": "sptAMrnL6hSP"
      },
      "source": [
        "plt.plot(\n",
        "    cases.index[:len(X_all_flatten)],\n",
        "    X_all_flatten,\n",
        "    label='actual cases'\n",
        ")\n",
        "plt.plot(\n",
        "    cases.index[:len(X_all_flatten)],\n",
        "    all_predict_flatten,\n",
        "    label='actual prediction cases'\n",
        ")\n",
        "plt.plot(\n",
        "    future_index,\n",
        "    future_predict_flatten,\n",
        "    label='predict up to ' + str(days_to_predict) + ' days in the future'\n",
        ")\n",
        "plt.plot(\n",
        "    future_index,\n",
        "    f_future_predict_flatten,\n",
        "    label='f_future based on previous future prediction'\n",
        ")\n",
        "plt.suptitle('Future Prediction Based on \\'' + TRAIN_CASE + '\\'')\n",
        "plt.title('Location = ' + TRAIN_LOCATION, fontsize='medium')\n",
        "plt.xlabel('date')\n",
        "plt.ylabel('case')\n",
        "plt.xticks(rotation=45)\n",
        "plt.legend()\n",
        "plt.show()"
      ],
      "execution_count": null,
      "outputs": []
    }
  ]
}